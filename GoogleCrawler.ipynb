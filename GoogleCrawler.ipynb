{
 "cells": [
  {
   "cell_type": "code",
   "execution_count": 11,
   "metadata": {},
   "outputs": [],
   "source": [
    "from selenium import webdriver\n",
    "from selenium.webdriver.common.by import By\n",
    "import pandas as pd \n",
    "import numpy as np \n",
    "import time\n",
    "import datetime\n",
    "import subprocess\n",
    "import re\n",
    "import os \n",
    "import requests"
   ]
  },
  {
   "cell_type": "code",
   "execution_count": 2,
   "metadata": {},
   "outputs": [],
   "source": [
    "keywords = [\"wikipedia\"]\n",
    "journals = ['information systems research', 'mis quarterly', 'journal of management information systems',\n",
    " 'journal of the association for information systems', 'management science', 'operational research']  # source: \"MISQ\"\n",
    "# journals = ['information systems research']\n",
    "# authors = [\"Kuznets\"]  # author:Kuznets\n",
    "fpath = \"/Users/Nico/test/test_googlecrawer\""
   ]
  },
  {
   "cell_type": "code",
   "execution_count": 3,
   "metadata": {},
   "outputs": [],
   "source": [
    "alias = {'information systems research':\"ISR\", 'mis quarterly':'MISQ', 'journal of management information systems':\"JMIS\",\n",
    "         'journal of the association for information systems':\"JAIS\", 'management science':'MS', 'operational research':\"OR\"}"
   ]
  },
  {
   "cell_type": "code",
   "execution_count": 4,
   "metadata": {},
   "outputs": [],
   "source": [
    "# options = webdriver.ChromeOptions()\n",
    "# # options.add_argument('headless')\n",
    "\n",
    "# options.binary_location = '/usr/local/bin/chromedriver'\n",
    "# options.add_argument('headless')\n",
    "# options.add_argument(\"--no-sandbox\");\n",
    "# options.add_argument(\"--disable-dev-shm-usage\")"
   ]
  },
  {
   "cell_type": "code",
   "execution_count": 5,
   "metadata": {},
   "outputs": [],
   "source": [
    "def getbibTeX(article, driver):\n",
    "    bib = article.find_element_by_css_selector(\"div[class=gs_fl]\").find_element_by_css_selector(\"a[class=gs_or_cit\\ gs_nph]\")\n",
    "    bib.click()\n",
    "    time.sleep(2)  ## sleep wait for the ajax to load \n",
    "    driver.find_element_by_css_selector(\"div[id=gs_citi]\").find_element_by_css_selector(\"a[class=gs_citi]\").click()\n",
    "    bib_text = driver.find_element_by_tag_name(\"body\").text.replace(\"\\n\", \"\")\n",
    "    driver.back()\n",
    "    driver.find_element_by_css_selector(\"span[class=gs_ico]\").click()\n",
    "    return bib_text"
   ]
  },
  {
   "cell_type": "code",
   "execution_count": 6,
   "metadata": {},
   "outputs": [
    {
     "ename": "NameError",
     "evalue": "name 'article' is not defined",
     "output_type": "error",
     "traceback": [
      "\u001b[31m---------------------------------------------------------------------------\u001b[39m",
      "\u001b[31mNameError\u001b[39m                                 Traceback (most recent call last)",
      "\u001b[36mCell\u001b[39m\u001b[36m \u001b[39m\u001b[32mIn[6]\u001b[39m\u001b[32m, line 1\u001b[39m\n\u001b[32m----> \u001b[39m\u001b[32m1\u001b[39m getbibTeX(\u001b[43marticle\u001b[49m[\u001b[32m2\u001b[39m], driver)\n",
      "\u001b[31mNameError\u001b[39m: name 'article' is not defined"
     ]
    }
   ],
   "source": [
    "getbibTeX(article[2], driver)"
   ]
  },
  {
   "cell_type": "code",
   "execution_count": null,
   "metadata": {},
   "outputs": [],
   "source": [
    "def getInfo(article, driver):\n",
    "    default = {\"title\": \"NA\", \"author\": \"NA\", \"journal\": \"NA\", \"year\": \"NA\"}\n",
    "    \n",
    "    # 提取标题\n",
    "    try:\n",
    "        default['title'] = article.find_element(By.CLASS_NAME, \"gs_rt\").text.lower()\n",
    "    except:\n",
    "        pass\n",
    "\n",
    "    # 提取作者、期刊、年份信息\n",
    "    try:\n",
    "        infobox = article.find_element(By.CLASS_NAME, \"gs_a\").text\n",
    "        default['author'], default['journal'], default['year'] = parse(infobox)\n",
    "    except:\n",
    "        pass\n",
    "    \n",
    "    return default"
   ]
  },
  {
   "cell_type": "code",
   "execution_count": null,
   "metadata": {},
   "outputs": [
    {
     "data": {
      "text/plain": [
       "{'title': 'economic growth and income inequality',\n",
       " 'author': 's kuznets',\n",
       " 'journal': 'the american economic review',\n",
       " 'year': '1955'}"
      ]
     },
     "execution_count": 149,
     "metadata": {},
     "output_type": "execute_result"
    }
   ],
   "source": [
    "getInfo(article[0], driver)"
   ]
  },
  {
   "cell_type": "code",
   "execution_count": null,
   "metadata": {},
   "outputs": [],
   "source": [
    "def getPdf(article, driver):\n",
    "    try:\n",
    "        tmp = article.find_element_by_css_selector(\"div[class=gs_or_ggsm\")\n",
    "        pdf_link = tmp.find_element_by_tag_name(\"a\").get_attribute(\"href\")\n",
    "    except:\n",
    "        pdf_link = \"NA\"\n",
    "    return pdf_link"
   ]
  },
  {
   "cell_type": "code",
   "execution_count": 7,
   "metadata": {},
   "outputs": [
    {
     "ename": "NameError",
     "evalue": "name 'getPdf' is not defined",
     "output_type": "error",
     "traceback": [
      "\u001b[31m---------------------------------------------------------------------------\u001b[39m",
      "\u001b[31mNameError\u001b[39m                                 Traceback (most recent call last)",
      "\u001b[36mCell\u001b[39m\u001b[36m \u001b[39m\u001b[32mIn[7]\u001b[39m\u001b[32m, line 1\u001b[39m\n\u001b[32m----> \u001b[39m\u001b[32m1\u001b[39m \u001b[43mgetPdf\u001b[49m(article[\u001b[32m1\u001b[39m], driver)\n",
      "\u001b[31mNameError\u001b[39m: name 'getPdf' is not defined"
     ]
    }
   ],
   "source": [
    "getPdf(article[1], driver)"
   ]
  },
  {
   "cell_type": "code",
   "execution_count": 8,
   "metadata": {},
   "outputs": [],
   "source": [
    "def downloadPdf(output, link):\n",
    "    response = requests.get(link)\n",
    "    with open(output, 'wb') as f:\n",
    "        f.write(response.content)"
   ]
  },
  {
   "cell_type": "code",
   "execution_count": 9,
   "metadata": {},
   "outputs": [],
   "source": [
    "def parse(infobox):\n",
    "    infobox = infobox.lower().split(\"-\")\n",
    "    infobox = [c.strip() for c in infobox]\n",
    "    author = infobox[0].split(\",\")[0]\n",
    "    journal = infobox[1].split(\",\")[0]\n",
    "    year = infobox[1].split(\",\")[1].strip()\n",
    "    return author, journal, year"
   ]
  },
  {
   "cell_type": "code",
   "execution_count": null,
   "metadata": {},
   "outputs": [],
   "source": [
    "# # for test\n",
    "# search_keyword = '''online communities'''\n",
    "# driver = webdriver.Chrome()\n",
    "# driver.execute_script(\"window.scrollTo(0, document.body.scrollHeight);\")\n",
    "# driver.get('https://scholar.google.com/')\n",
    "# input_element = driver.find_element(By.NAME ,\"q\")\n",
    "# input_element.clear()\n",
    "# input_element.send_keys(search_keyword)\n",
    "# input_element.submit()\n",
    "# elements = driver.find_elements_by_css_selector(\"div[class=gs_r\\ gs_or\\ gs_scl]\")"
   ]
  },
  {
   "cell_type": "code",
   "execution_count": 25,
   "metadata": {},
   "outputs": [
    {
     "name": "stdout",
     "output_type": "stream",
     "text": [
      "抓到 10 个结果\n",
      "[PDF] academia.edu\n",
      "Online communities\n",
      "R Plant - Technology in society, 2004 - Elsevier\n",
      "… phenomena, that of the online community. The potential for near … facilitated the development\n",
      "of online communities which work to … the concept and practice of online communities: first, by …\n",
      "保存 引用 被引用次数：369 相关文章 所有 10 个版本\n",
      "[PDF] academia.edu\n",
      "The anthropology of online communities\n",
      "SM Wilson, LC Peterson - Annual review of anthropology, 2002 - annualreviews.org\n",
      "… to these groups, we mustraise several questions: How have scholars approached online\n",
      "communities andonline communication in general? Is the concept of community itselfmisleading…\n",
      "保存 引用 被引用次数：1182 相关文章 所有 12 个版本\n",
      "The real value of online communities\n",
      "A Armstrong, J Hagel - Knowledge and communities, 2009 - api.taylorfrancis.com\n",
      "… a community are those businesses that have a substantial economic incentive to exploit\n",
      "synergies between an online community … of the leading online communities that target children? …\n",
      "保存 引用 被引用次数：2294 相关文章 所有 6 个版本\n",
      "[PDF] researchgate.net\n",
      "[PDF] History of online communities\n",
      "J Preece, D Maloney-Krichmar… - … of community, 2003 - researchgate.net\n",
      "… The problem with the term ‘online community’ is that it refers to a wide range of online … the\n",
      "term ‘online community’ broadly to refer to all communities that exist predominantly online. A …\n",
      "保存 引用 被引用次数：345 相关文章 所有 3 个版本\n",
      "[图书] Online communities\n",
      "SR Hiltz - 1984 - dl.acm.org\n",
      "… Online communities, while primarily enacted through technology-mediated environments,\n",
      "can also include offline meetings between members, promoting interactivity and community …\n",
      "保存 引用 被引用次数：531 相关文章 所有 4 个版本\n",
      "Strategies for online communities\n",
      "KD Miller, F Fabian, SJ Lin - Strategic management journal, 2009 - Wiley Online Library\n",
      "… This study examines the participation of firms in online communities as a means to enhance\n",
      "… advocates who promote its product in online communities. Our model results point to some …\n",
      "保存 引用 被引用次数：465 相关文章 所有 11 个版本\n",
      "[PDF] yorku.ca\n",
      "A survey of current research on online communities of practice\n",
      "CM Johnson - The internet and higher education, 2001 - Elsevier\n",
      "… case studies as evidence of online learning's success. In addition, online groups are usually\n",
      "self-… Because communities of practice and virtual communities are a new area of research in …\n",
      "保存 引用 被引用次数：1292 相关文章 所有 9 个版本\n",
      "[PDF] dhi.ac.uk\n",
      "A framework for analyzing and understanding online communities\n",
      "CS De Souza, J Preece - Interacting with computers, 2004 - academic.oup.com\n",
      "… online communities. At an abstract and generic level, the OCF can support an analysis of\n",
      "breakdowns in existing online communities … support a comparison of different communities, or a …\n",
      "保存 引用 被引用次数：457 相关文章 所有 9 个版本\n",
      "Understanding lurkers in online communities: A literature review\n",
      "N Sun, PPL Rau, L Ma - Computers in Human Behavior, 2014 - Elsevier\n",
      "… of website users who regularly login to online communities but seldom post. This study aims\n",
      "to … in online communities by building an integrated model of motivational factors of online …\n",
      "保存 引用 被引用次数：675 相关文章 所有 6 个版本\n",
      "[PDF] ssrn.com\n",
      "Knowledge collaboration in online communities\n",
      "S Faraj, SL Jarvenpaa, A Majchrzak - Organization science, 2011 - pubsonline.informs.org\n",
      "… in and out of the community—resources such as passion, time, … knowledge collaboration\n",
      "when the community responds to these … —induced by online communities—has implications for …\n",
      "保存 引用 被引用次数：1581 相关文章 所有 17 个版本\n"
     ]
    }
   ],
   "source": [
    "from selenium.webdriver.common.by import By\n",
    "from selenium.webdriver.support.ui import WebDriverWait\n",
    "from selenium.webdriver.support import expected_conditions as EC\n",
    "\n",
    "search_keyword = \"online communities\"\n",
    "driver = webdriver.Chrome()\n",
    "driver.get('https://scholar.google.com/')\n",
    "\n",
    "# 输入搜索内容\n",
    "input_element = driver.find_element(By.NAME, \"q\")\n",
    "input_element.clear()\n",
    "input_element.send_keys(search_keyword)\n",
    "input_element.submit()\n",
    "\n",
    "# 等待结果加载出来\n",
    "elements = WebDriverWait(driver, 10).until(\n",
    "    EC.presence_of_all_elements_located((By.CSS_SELECTOR, \"div.gs_r.gs_or.gs_scl\"))\n",
    ")\n",
    "\n",
    "print(f\"抓到 {len(elements)} 个结果\")\n",
    "for e in elements:\n",
    "    print(e.text)\n"
   ]
  },
  {
   "cell_type": "code",
   "execution_count": 26,
   "metadata": {},
   "outputs": [
    {
     "data": {
      "text/plain": [
       "[<selenium.webdriver.remote.webelement.WebElement (session=\"cbd263a48d4f6ec05ca08f25a84803c6\", element=\"f.1D52A1391B735E567BEBF4BE72C1814F.d.1033CACA8A12CBE1DC69D2D4FDB55354.e.73\")>,\n",
       " <selenium.webdriver.remote.webelement.WebElement (session=\"cbd263a48d4f6ec05ca08f25a84803c6\", element=\"f.1D52A1391B735E567BEBF4BE72C1814F.d.1033CACA8A12CBE1DC69D2D4FDB55354.e.74\")>]"
      ]
     },
     "execution_count": 26,
     "metadata": {},
     "output_type": "execute_result"
    }
   ],
   "source": [
    "elements[0].find_elements(By.CLASS_NAME,\"gs_fl\")"
   ]
  },
  {
   "cell_type": "code",
   "execution_count": 29,
   "metadata": {},
   "outputs": [
    {
     "name": "stdout",
     "output_type": "stream",
     "text": [
      "['被引用次数：465']\n"
     ]
    }
   ],
   "source": [
    "# 拿到第 6 条搜索结果（索引 5）\n",
    "tmp = elements[5].find_elements(By.CSS_SELECTOR, \".gs_fl\")\n",
    "\n",
    "# 遍历底部的链接区域，寻找 “被引用次数” 的链接\n",
    "cite_links = []\n",
    "for c in tmp:\n",
    "    try:\n",
    "        cite = c.find_element(By.CSS_SELECTOR, \"a[href^='/scholar?cites']\")\n",
    "        cite_links.append(cite.text)\n",
    "    except:\n",
    "        pass\n",
    "\n",
    "print(cite_links)\n"
   ]
  },
  {
   "cell_type": "code",
   "execution_count": 59,
   "metadata": {},
   "outputs": [],
   "source": [
    "class Article:\n",
    "    def __init__(self, keywords, target_journal, folder):\n",
    "        self.keywords = keywords\n",
    "        self.target_journal = target_journal\n",
    "        self.output_folder = folder\n",
    "        self.create_folder()\n",
    "        self.total_article = {}\n",
    "    \n",
    "    def create_folder(self):\n",
    "        self.output_fpath = \"/\".join([self.output_folder, self.keywords, self.target_journal])\n",
    "        if not os.path.exists(self.output_fpath):\n",
    "            os.makedirs(self.output_fpath)\n",
    "            print('created folder {0}'.format(self.output_fpath))\n",
    "    \n",
    "    def getInfo(self, article, driver):\n",
    "        default = {\"title\": \"NA\", \"author\": \"NA\", \"journal\": \"NA\", \"year\":\"NA\", \"log\": \"NA\"}\n",
    "        \n",
    "        # 提取标题\n",
    "        try:\n",
    "            default['title'] = article.find_element(By.CLASS_NAME, \"gs_rt\").text.lower()\n",
    "            # 去掉特殊字符，只保留字母、数字和空格\n",
    "            default['title'] = re.sub(\"[^a-z0-9 ]\", \"\", default['title'])\n",
    "        except:\n",
    "            pass\n",
    "\n",
    "        # 提取作者、期刊、年份信息\n",
    "        try:\n",
    "            infobox = article.find_element(By.CLASS_NAME, \"gs_a\").text\n",
    "            default['author'], default['journal'], default['year'] = parse(infobox)\n",
    "        except:\n",
    "            pass\n",
    "\n",
    "        return default\n",
    "    \n",
    "    def getPdf(self, article, driver):\n",
    "        tmp = article.find_element_by_css_selector(\"div[class=gs_or_ggsm\")\n",
    "        pdf_link = tmp.find_element_by_tag_name(\"a\").get_attribute(\"href\")\n",
    "        return pdf_link\n",
    "    \n",
    "    def getFileName(self, alias=alias):\n",
    "        by = [\"author\", \"year\", \"title\", \"journal\"]\n",
    "        if alias:\n",
    "            if self.info['journal'] in alias.keys():\n",
    "                self.info['journal-short'] = alias[self.info['journal']]\n",
    "                by = [\"author\", \"year\", \"title\", \"journal-short\"]\n",
    "        if len(self.info['title'].split(\" \")) > 10:\n",
    "            self.info['title-short'] = \" \".join(self.info['title'].split(\" \")[:10])\n",
    "            if \"journal-short\" in self.info.keys():\n",
    "                by = [\"author\", \"year\", \"title-short\", \"journal-short\"]\n",
    "            else:\n",
    "                by = [\"author\", \"year\", \"title-short\", \"journal\"]\n",
    "        filename = \"-\".join([self.info[c] for c in by]) + \".pdf\"\n",
    "        return filename\n",
    "    \n",
    "    def fit(self, article, driver, num):\n",
    "        # try:\n",
    "        self.info = self.getInfo(article, driver)\n",
    "        # except:\n",
    "        #     print(\"article info parse error!\")\n",
    "        #     self.info = None\n",
    "        if self.info:\n",
    "            try:\n",
    "                self.pdf = self.getPdf(article, driver)\n",
    "            except:\n",
    "                self.info['log'] = \"pdf missing\"\n",
    "                self.pdf = None\n",
    "            if self.pdf:\n",
    "                self.filename = self.getFileName()\n",
    "                output = self.output_fpath + \"/\" + self.filename\n",
    "                try:\n",
    "                    downloadPdf(output, self.pdf)\n",
    "                except:\n",
    "                    self.log = self.info['log'] + \"||| pdf download error\"\n",
    "        self.total_article[num] = self.info\n",
    "#         if hasattr(self, 'log'):\n",
    "#             now = datetime.datetime.now()\n",
    "#             logfile_path = self.output_fpath + \"/\" + \"log_{0}.txt\".format(now.strftime(\"%m-%d-%Y\"))\n",
    "#             if not os.path.exists(logfile_path):\n",
    "#                 subprocess.call(\"touch {0}\".format(logfile_path), shell=True)\n",
    "#             with open(logfile_path, \"a\") as f:\n",
    "#                 f.writelines(self.log)"
   ]
  },
  {
   "cell_type": "code",
   "execution_count": 74,
   "metadata": {},
   "outputs": [],
   "source": [
    "def run(keywords, journals, recursive = 6):\n",
    "    driver = webdriver.Chrome()\n",
    "    driver.execute_script(\"window.scrollTo(0, document.body.scrollHeight);\")\n",
    "    driver.get('https://scholar.google.com/')\n",
    "    for i in keywords:\n",
    "        for j in journals:\n",
    "            cnt = 1\n",
    "            articles = Article(i, j, fpath)\n",
    "            search_keyword = \" \".join([i.lower(), '''source:\"{}\"'''.format(j.lower())])\n",
    "            print(\"current search key: {0}\".format(search_keyword))\n",
    "            input_element = driver.find_element(By.NAME,\"q\")\n",
    "            input_element.clear()\n",
    "            input_element.send_keys(search_keyword)\n",
    "            input_element.submit()\n",
    "            time.sleep(2)\n",
    "            for n in range(recursive):\n",
    "                driver.execute_script(\"window.scrollTo(0, document.body.scrollHeight);\")\n",
    "                elements = driver.find_elements(By.CSS_SELECTOR,\"div[class=gs_r\\ gs_or\\ gs_scl]\")\n",
    "                for e in elements:\n",
    "                    # try:\n",
    "                    articles.fit(e, driver, cnt)\n",
    "                    # except:\n",
    "                    #     print(\"page {} number {} parse error!\".format(n, cnt))\n",
    "                    cnt += 1\n",
    "                # try:\n",
    "                    driver.find_element(By.CSS_SELECTOR, \"span.gs_ico.gs_ico_nav_next\")\n",
    "                    time.sleep(5)\n",
    "                # except:\n",
    "                #     pass\n",
    "            log = pd.DataFrame(articles.total_article).T\n",
    "            now = datetime.datetime.now()\n",
    "            log.to_csv(articles.output_fpath+\"/\"+\"logfile_{}.txt\".format(now.strftime(\"%m-%d-%Y\")), sep=\"\\t\")\n",
    "    driver.quit()"
   ]
  },
  {
   "cell_type": "code",
   "execution_count": 75,
   "metadata": {},
   "outputs": [],
   "source": [
    "# article = driver.find_element_by_css_selector(\"div[class^=gs_ri\")"
   ]
  },
  {
   "cell_type": "code",
   "execution_count": 76,
   "metadata": {},
   "outputs": [],
   "source": [
    "journals = ['journal of management information systems',\n",
    " 'journal of the association for information systems', 'management science', 'operational research']"
   ]
  },
  {
   "cell_type": "code",
   "execution_count": 78,
   "metadata": {},
   "outputs": [
    {
     "name": "stdout",
     "output_type": "stream",
     "text": [
      "current search key: wikipedia source:\"journal of management information systems\"\n"
     ]
    },
    {
     "ename": "InvalidSessionIdException",
     "evalue": "Message: invalid session id; For documentation on this error, please visit: https://www.selenium.dev/documentation/webdriver/troubleshooting/errors#invalidsessionidexception\nStacktrace:\n\tGetHandleVerifier [0x0x7ff67f1f3d85+79397]\n\tGetHandleVerifier [0x0x7ff67f1f3de0+79488]\n\t(No symbol) [0x0x7ff67ef9bf2c]\n\t(No symbol) [0x0x7ff67efe32df]\n\t(No symbol) [0x0x7ff67f01b062]\n\t(No symbol) [0x0x7ff67f015b93]\n\t(No symbol) [0x0x7ff67f014c59]\n\t(No symbol) [0x0x7ff67ef66fd5]\n\tGetHandleVerifier [0x0x7ff67f4be1ed+3005069]\n\tGetHandleVerifier [0x0x7ff67f4b831d+2980797]\n\tGetHandleVerifier [0x0x7ff67f4d7e0d+3110573]\n\tGetHandleVerifier [0x0x7ff67f20d6de+184190]\n\tGetHandleVerifier [0x0x7ff67f21516f+215567]\n\t(No symbol) [0x0x7ff67ef65fd1]\n\tGetHandleVerifier [0x0x7ff67f5e1d48+4199912]\n\tBaseThreadInitThunk [0x0x7ffff0a07374+20]\n\tRtlUserThreadStart [0x0x7ffff19bcc91+33]\n",
     "output_type": "error",
     "traceback": [
      "\u001b[31m---------------------------------------------------------------------------\u001b[39m",
      "\u001b[31mInvalidSessionIdException\u001b[39m                 Traceback (most recent call last)",
      "\u001b[36mCell\u001b[39m\u001b[36m \u001b[39m\u001b[32mIn[78]\u001b[39m\u001b[32m, line 1\u001b[39m\n\u001b[32m----> \u001b[39m\u001b[32m1\u001b[39m \u001b[43mrun\u001b[49m\u001b[43m(\u001b[49m\u001b[43mkeywords\u001b[49m\u001b[43m,\u001b[49m\u001b[43m \u001b[49m\u001b[43mjournals\u001b[49m\u001b[43m,\u001b[49m\u001b[43m \u001b[49m\u001b[43mrecursive\u001b[49m\u001b[43m=\u001b[49m\u001b[32;43m6\u001b[39;49m\u001b[43m)\u001b[49m\n",
      "\u001b[36mCell\u001b[39m\u001b[36m \u001b[39m\u001b[32mIn[74]\u001b[39m\u001b[32m, line 26\u001b[39m, in \u001b[36mrun\u001b[39m\u001b[34m(keywords, journals, recursive)\u001b[39m\n\u001b[32m     24\u001b[39m     cnt += \u001b[32m1\u001b[39m\n\u001b[32m     25\u001b[39m \u001b[38;5;66;03m# try:\u001b[39;00m\n\u001b[32m---> \u001b[39m\u001b[32m26\u001b[39m     \u001b[43mdriver\u001b[49m\u001b[43m.\u001b[49m\u001b[43mfind_element\u001b[49m\u001b[43m(\u001b[49m\u001b[43mBy\u001b[49m\u001b[43m.\u001b[49m\u001b[43mCSS_SELECTOR\u001b[49m\u001b[43m,\u001b[49m\u001b[43m \u001b[49m\u001b[33;43m\"\u001b[39;49m\u001b[33;43mspan.gs_ico.gs_ico_nav_next\u001b[39;49m\u001b[33;43m\"\u001b[39;49m\u001b[43m)\u001b[49m\n\u001b[32m     27\u001b[39m     time.sleep(\u001b[32m5\u001b[39m)\n\u001b[32m     28\u001b[39m \u001b[38;5;66;03m# except:\u001b[39;00m\n\u001b[32m     29\u001b[39m \u001b[38;5;66;03m#     pass\u001b[39;00m\n",
      "\u001b[36mFile \u001b[39m\u001b[32m~\\AppData\\Local\\Packages\\PythonSoftwareFoundation.Python.3.11_qbz5n2kfra8p0\\LocalCache\\local-packages\\Python311\\site-packages\\selenium\\webdriver\\remote\\webdriver.py:922\u001b[39m, in \u001b[36mWebDriver.find_element\u001b[39m\u001b[34m(self, by, value)\u001b[39m\n\u001b[32m    919\u001b[39m         \u001b[38;5;28;01mraise\u001b[39;00m NoSuchElementException(\u001b[33mf\u001b[39m\u001b[33m\"\u001b[39m\u001b[33mCannot locate relative element with: \u001b[39m\u001b[38;5;132;01m{\u001b[39;00mby.root\u001b[38;5;132;01m}\u001b[39;00m\u001b[33m\"\u001b[39m)\n\u001b[32m    920\u001b[39m     \u001b[38;5;28;01mreturn\u001b[39;00m elements[\u001b[32m0\u001b[39m]\n\u001b[32m--> \u001b[39m\u001b[32m922\u001b[39m \u001b[38;5;28;01mreturn\u001b[39;00m \u001b[38;5;28;43mself\u001b[39;49m\u001b[43m.\u001b[49m\u001b[43mexecute\u001b[49m\u001b[43m(\u001b[49m\u001b[43mCommand\u001b[49m\u001b[43m.\u001b[49m\u001b[43mFIND_ELEMENT\u001b[49m\u001b[43m,\u001b[49m\u001b[43m \u001b[49m\u001b[43m{\u001b[49m\u001b[33;43m\"\u001b[39;49m\u001b[33;43musing\u001b[39;49m\u001b[33;43m\"\u001b[39;49m\u001b[43m:\u001b[49m\u001b[43m \u001b[49m\u001b[43mby\u001b[49m\u001b[43m,\u001b[49m\u001b[43m \u001b[49m\u001b[33;43m\"\u001b[39;49m\u001b[33;43mvalue\u001b[39;49m\u001b[33;43m\"\u001b[39;49m\u001b[43m:\u001b[49m\u001b[43m \u001b[49m\u001b[43mvalue\u001b[49m\u001b[43m}\u001b[49m\u001b[43m)\u001b[49m[\u001b[33m\"\u001b[39m\u001b[33mvalue\u001b[39m\u001b[33m\"\u001b[39m]\n",
      "\u001b[36mFile \u001b[39m\u001b[32m~\\AppData\\Local\\Packages\\PythonSoftwareFoundation.Python.3.11_qbz5n2kfra8p0\\LocalCache\\local-packages\\Python311\\site-packages\\selenium\\webdriver\\remote\\webdriver.py:454\u001b[39m, in \u001b[36mWebDriver.execute\u001b[39m\u001b[34m(self, driver_command, params)\u001b[39m\n\u001b[32m    451\u001b[39m response = cast(RemoteConnection, \u001b[38;5;28mself\u001b[39m.command_executor).execute(driver_command, params)\n\u001b[32m    453\u001b[39m \u001b[38;5;28;01mif\u001b[39;00m response:\n\u001b[32m--> \u001b[39m\u001b[32m454\u001b[39m     \u001b[38;5;28;43mself\u001b[39;49m\u001b[43m.\u001b[49m\u001b[43merror_handler\u001b[49m\u001b[43m.\u001b[49m\u001b[43mcheck_response\u001b[49m\u001b[43m(\u001b[49m\u001b[43mresponse\u001b[49m\u001b[43m)\u001b[49m\n\u001b[32m    455\u001b[39m     response[\u001b[33m\"\u001b[39m\u001b[33mvalue\u001b[39m\u001b[33m\"\u001b[39m] = \u001b[38;5;28mself\u001b[39m._unwrap_value(response.get(\u001b[33m\"\u001b[39m\u001b[33mvalue\u001b[39m\u001b[33m\"\u001b[39m, \u001b[38;5;28;01mNone\u001b[39;00m))\n\u001b[32m    456\u001b[39m     \u001b[38;5;28;01mreturn\u001b[39;00m response\n",
      "\u001b[36mFile \u001b[39m\u001b[32m~\\AppData\\Local\\Packages\\PythonSoftwareFoundation.Python.3.11_qbz5n2kfra8p0\\LocalCache\\local-packages\\Python311\\site-packages\\selenium\\webdriver\\remote\\errorhandler.py:232\u001b[39m, in \u001b[36mErrorHandler.check_response\u001b[39m\u001b[34m(self, response)\u001b[39m\n\u001b[32m    230\u001b[39m         alert_text = value[\u001b[33m\"\u001b[39m\u001b[33malert\u001b[39m\u001b[33m\"\u001b[39m].get(\u001b[33m\"\u001b[39m\u001b[33mtext\u001b[39m\u001b[33m\"\u001b[39m)\n\u001b[32m    231\u001b[39m     \u001b[38;5;28;01mraise\u001b[39;00m exception_class(message, screen, stacktrace, alert_text)  \u001b[38;5;66;03m# type: ignore[call-arg]  # mypy is not smart enough here\u001b[39;00m\n\u001b[32m--> \u001b[39m\u001b[32m232\u001b[39m \u001b[38;5;28;01mraise\u001b[39;00m exception_class(message, screen, stacktrace)\n",
      "\u001b[31mInvalidSessionIdException\u001b[39m: Message: invalid session id; For documentation on this error, please visit: https://www.selenium.dev/documentation/webdriver/troubleshooting/errors#invalidsessionidexception\nStacktrace:\n\tGetHandleVerifier [0x0x7ff67f1f3d85+79397]\n\tGetHandleVerifier [0x0x7ff67f1f3de0+79488]\n\t(No symbol) [0x0x7ff67ef9bf2c]\n\t(No symbol) [0x0x7ff67efe32df]\n\t(No symbol) [0x0x7ff67f01b062]\n\t(No symbol) [0x0x7ff67f015b93]\n\t(No symbol) [0x0x7ff67f014c59]\n\t(No symbol) [0x0x7ff67ef66fd5]\n\tGetHandleVerifier [0x0x7ff67f4be1ed+3005069]\n\tGetHandleVerifier [0x0x7ff67f4b831d+2980797]\n\tGetHandleVerifier [0x0x7ff67f4d7e0d+3110573]\n\tGetHandleVerifier [0x0x7ff67f20d6de+184190]\n\tGetHandleVerifier [0x0x7ff67f21516f+215567]\n\t(No symbol) [0x0x7ff67ef65fd1]\n\tGetHandleVerifier [0x0x7ff67f5e1d48+4199912]\n\tBaseThreadInitThunk [0x0x7ffff0a07374+20]\n\tRtlUserThreadStart [0x0x7ffff19bcc91+33]\n"
     ]
    }
   ],
   "source": [
    "run(keywords, journals, recursive=6)"
   ]
  },
  {
   "cell_type": "code",
   "execution_count": null,
   "metadata": {},
   "outputs": [],
   "source": []
  },
  {
   "cell_type": "code",
   "execution_count": null,
   "metadata": {},
   "outputs": [],
   "source": []
  },
  {
   "cell_type": "code",
   "execution_count": null,
   "metadata": {},
   "outputs": [],
   "source": []
  }
 ],
 "metadata": {
  "kernelspec": {
   "display_name": "Python 3",
   "language": "python",
   "name": "python3"
  },
  "language_info": {
   "codemirror_mode": {
    "name": "ipython",
    "version": 3
   },
   "file_extension": ".py",
   "mimetype": "text/x-python",
   "name": "python",
   "nbconvert_exporter": "python",
   "pygments_lexer": "ipython3",
   "version": "3.11.9"
  }
 },
 "nbformat": 4,
 "nbformat_minor": 2
}
